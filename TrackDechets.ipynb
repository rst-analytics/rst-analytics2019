{
  "nbformat": 4,
  "nbformat_minor": 0,
  "metadata": {
    "colab": {
      "name": "TrackDechets.ipynb",
      "version": "0.3.2",
      "provenance": [],
      "collapsed_sections": [],
      "include_colab_link": true
    },
    "kernelspec": {
      "name": "python3",
      "display_name": "Python 3"
    }
  },
  "cells": [
    {
      "cell_type": "markdown",
      "metadata": {
        "id": "view-in-github",
        "colab_type": "text"
      },
      "source": [
        "<a href=\"https://colab.research.google.com/github/rst-analytics/rst-analytics2019/blob/master/TrackDechets.ipynb\" target=\"_parent\"><img src=\"https://colab.research.google.com/assets/colab-badge.svg\" alt=\"Open In Colab\"/></a>"
      ]
    },
    {
      "metadata": {
        "id": "o1GLFsOKS8AP",
        "colab_type": "text"
      },
      "cell_type": "markdown",
      "source": [
        "# Etape 1 : Les données\n",
        "\n",
        "- Liste des ICPE (fichier CSV), source = http://www.installationsclassees.developpement-durable.gouv.fr\n",
        "- Liste des ICPE (fichier shape), source = georisque.gouv.fr\n",
        "- Liste des établissements de la base IREP, année 2017, source = georisque.gouv.fr\n",
        "- Base Sireine, retraité par C. Quest, version 1er mars 2019, http://data.cquest.org/geo_sirene/last/\n",
        "\n",
        "# Etape 2 : Petit traitement des données\n",
        "\n",
        "- Le fichier des établissements IREP est passé dans OO puis ré-exporter en csv pour rendre le csv plus propre (suppression des sauts de lignes intempestives), comme suggéré sur Géorisques.\n",
        "- Le fichier ICPE en shape est converti en csv (simple export de la base des attributs sous QGIS)\n",
        "\n",
        "# Etape 3 : On commence !\n",
        "\n",
        "\n",
        "\n"
      ]
    },
    {
      "metadata": {
        "id": "ayKRDAGrSyZO",
        "colab_type": "text"
      },
      "cell_type": "markdown",
      "source": [
        "\n",
        "# **Défi 1 : TackDechet**\n",
        "\n",
        "Luc Mathis, DRI, en mode freestyle\n"
      ]
    },
    {
      "metadata": {
        "id": "Y4xXr7zGhe1b",
        "colab_type": "text"
      },
      "cell_type": "markdown",
      "source": [
        "## Import des libs"
      ]
    },
    {
      "metadata": {
        "id": "8D84yzPBS8WX",
        "colab_type": "code",
        "outputId": "c20ac061-9411-43a6-f7e2-637ce3337f56",
        "colab": {
          "base_uri": "https://localhost:8080/",
          "height": 131
        }
      },
      "cell_type": "code",
      "source": [
        "import pandas as pd\n",
        "from pandas.tools.plotting import scatter_matrix\n",
        "import numpy as np\n",
        "\n",
        "import seaborn as sns\n",
        "import matplotlib.pyplot as plt\n",
        "\n",
        "\n",
        "!pip install Unidecode\n",
        "from unidecode import unidecode\n"
      ],
      "execution_count": 1,
      "outputs": [
        {
          "output_type": "stream",
          "text": [
            "Collecting Unidecode\n",
            "\u001b[?25l  Downloading https://files.pythonhosted.org/packages/31/39/53096f9217b057cb049fe872b7fc7ce799a1a89b76cf917d9639e7a558b5/Unidecode-1.0.23-py2.py3-none-any.whl (237kB)\n",
            "\u001b[K    100% |████████████████████████████████| 245kB 11.9MB/s \n",
            "\u001b[?25hInstalling collected packages: Unidecode\n",
            "Successfully installed Unidecode-1.0.23\n"
          ],
          "name": "stdout"
        }
      ]
    },
    {
      "metadata": {
        "id": "ExTt1Bmkhgm7",
        "colab_type": "text"
      },
      "cell_type": "markdown",
      "source": [
        "## Import des fichiers (situés sur Google Drive pour être traités via Colab)"
      ]
    },
    {
      "metadata": {
        "id": "yjkuhePpTDSr",
        "colab_type": "code",
        "outputId": "eb737c83-cd8c-47cb-ec03-5380db87c780",
        "colab": {
          "base_uri": "https://localhost:8080/",
          "height": 131
        }
      },
      "cell_type": "code",
      "source": [
        "from google.colab import drive\n",
        "drive.mount('/content/gdrive')"
      ],
      "execution_count": 2,
      "outputs": [
        {
          "output_type": "stream",
          "text": [
            "Go to this URL in a browser: https://accounts.google.com/o/oauth2/auth?client_id=947318989803-6bn6qk8qdgf4n4g3pfee6491hc0brc4i.apps.googleusercontent.com&redirect_uri=urn%3Aietf%3Awg%3Aoauth%3A2.0%3Aoob&scope=email%20https%3A%2F%2Fwww.googleapis.com%2Fauth%2Fdocs.test%20https%3A%2F%2Fwww.googleapis.com%2Fauth%2Fdrive%20https%3A%2F%2Fwww.googleapis.com%2Fauth%2Fdrive.photos.readonly%20https%3A%2F%2Fwww.googleapis.com%2Fauth%2Fpeopleapi.readonly&response_type=code\n",
            "\n",
            "Enter your authorization code:\n",
            "··········\n",
            "Mounted at /content/gdrive\n"
          ],
          "name": "stdout"
        }
      ]
    },
    {
      "metadata": {
        "id": "F_WzmCSnhuO3",
        "colab_type": "text"
      },
      "cell_type": "markdown",
      "source": [
        "## Chargement des data\n",
        "\n"
      ]
    },
    {
      "metadata": {
        "id": "VHfvQ-yCijgd",
        "colab_type": "text"
      },
      "cell_type": "markdown",
      "source": [
        "### IREP"
      ]
    },
    {
      "metadata": {
        "id": "ccqy9cS_h2Iu",
        "colab_type": "code",
        "colab": {}
      },
      "cell_type": "code",
      "source": [
        "# Etablissement IREP\n",
        "etablissement_irep_ini = pd.read_csv(\"/content/gdrive/My Drive/RST-Analytics/TrackDechets/etablissements_clean.csv\",sep=',',\n",
        "                                    dtype={'Identifiant':str, 'Numero_SIRET':str})"
      ],
      "execution_count": 0,
      "outputs": []
    },
    {
      "metadata": {
        "id": "O4N6Q2M0h2Rf",
        "colab_type": "code",
        "outputId": "e460918d-d5eb-4aae-9aca-98b91a4b8c97",
        "colab": {
          "base_uri": "https://localhost:8080/",
          "height": 375
        }
      },
      "cell_type": "code",
      "source": [
        "etablissement_irep_df = etablissement_irep_ini.copy()\n",
        "etablissement_irep_df.info()"
      ],
      "execution_count": 94,
      "outputs": [
        {
          "output_type": "stream",
          "text": [
            "<class 'pandas.core.frame.DataFrame'>\n",
            "RangeIndex: 10047 entries, 0 to 10046\n",
            "Data columns (total 14 columns):\n",
            "Identifiant          10047 non-null object\n",
            "Nom_Etablissement    10047 non-null object\n",
            "Numero_SIRET         10047 non-null object\n",
            "Adresse              7367 non-null object\n",
            "Code_Postal          10047 non-null int64\n",
            "Commune              10046 non-null object\n",
            "Departement          10047 non-null object\n",
            "Region               10047 non-null object\n",
            "Coordonnees_X        10047 non-null float64\n",
            "Coordonnees_Y        10047 non-null float64\n",
            "Code_APE             10047 non-null object\n",
            "Libelle_APE          10047 non-null object\n",
            "code_eprtr           2955 non-null object\n",
            "libelle_eprtr        2955 non-null object\n",
            "dtypes: float64(2), int64(1), object(11)\n",
            "memory usage: 1.1+ MB\n"
          ],
          "name": "stdout"
        }
      ]
    },
    {
      "metadata": {
        "id": "os-i6SLYiVic",
        "colab_type": "text"
      },
      "cell_type": "markdown",
      "source": [
        "Base IREP 2017 : 10 000 entrées, avec numéro de SIRET et identifiant GEREP\n"
      ]
    },
    {
      "metadata": {
        "id": "e4qibPuvilt9",
        "colab_type": "text"
      },
      "cell_type": "markdown",
      "source": [
        "### ICPE\n"
      ]
    },
    {
      "metadata": {
        "id": "C8DKSLk5h2ax",
        "colab_type": "code",
        "colab": {}
      },
      "cell_type": "code",
      "source": [
        "icpe_ini = pd.read_csv(\"/content/gdrive/My Drive/RST-Analytics/TrackDechets/installations_classees.csv\",sep=',', encoding = 'utf8',\n",
        "                       dtype={'Identifiant':str})"
      ],
      "execution_count": 0,
      "outputs": []
    },
    {
      "metadata": {
        "id": "m4v4xA7Xizva",
        "colab_type": "code",
        "outputId": "03bd1860-6501-43a1-cfc5-717a74300021",
        "colab": {
          "base_uri": "https://localhost:8080/",
          "height": 300
        }
      },
      "cell_type": "code",
      "source": [
        "icpe_df = icpe_ini.copy()\n",
        "icpe_df.info()\n"
      ],
      "execution_count": 96,
      "outputs": [
        {
          "output_type": "stream",
          "text": [
            "<class 'pandas.core.frame.DataFrame'>\n",
            "RangeIndex: 52012 entries, 0 to 52011\n",
            "Data columns (total 10 columns):\n",
            "Identifiant           52012 non-null object\n",
            "Nom_etablissement     52012 non-null object\n",
            "Code postal           52012 non-null int64\n",
            "Commune               52012 non-null object\n",
            "Département           52012 non-null object\n",
            "Régime                52012 non-null object\n",
            "Statut Seveso         52012 non-null object\n",
            "Etat d'activité       52012 non-null object\n",
            "Priorité nationale    52012 non-null object\n",
            "IED-MTD               52012 non-null object\n",
            "dtypes: int64(1), object(9)\n",
            "memory usage: 4.0+ MB\n"
          ],
          "name": "stdout"
        }
      ]
    },
    {
      "metadata": {
        "id": "xfC6vloyi7Vt",
        "colab_type": "text"
      },
      "cell_type": "markdown",
      "source": [
        "Base ICPE : 52 000 entrées, avec identifiant GEREP ... mais pas les identifiants SIRET"
      ]
    },
    {
      "metadata": {
        "id": "0_TuHFmWu5uq",
        "colab_type": "text"
      },
      "cell_type": "markdown",
      "source": [
        "### ICPE, 2ième essai à partir du CSV (export du shapefile)"
      ]
    },
    {
      "metadata": {
        "id": "Gmkov5EKTb65",
        "colab_type": "code",
        "colab": {}
      },
      "cell_type": "code",
      "source": [
        "icpe_shp_ini = pd.read_csv(\"/content/gdrive/My Drive/RST-Analytics/TrackDechets/icpe-shp-export-attrbuts.csv\",sep=',', encoding = 'utf8',\n",
        "                           dtype={'code_s3ic':str, 'num_siret':str})"
      ],
      "execution_count": 0,
      "outputs": []
    },
    {
      "metadata": {
        "id": "RPrwadXRvJcX",
        "colab_type": "code",
        "outputId": "fff467f2-49e3-47ba-fe34-146972f769ba",
        "colab": {
          "base_uri": "https://localhost:8080/",
          "height": 526
        }
      },
      "cell_type": "code",
      "source": [
        "icpe_shp_df = icpe_shp_ini.copy()\n",
        "icpe_shp_df.info()\n"
      ],
      "execution_count": 98,
      "outputs": [
        {
          "output_type": "stream",
          "text": [
            "<class 'pandas.core.frame.DataFrame'>\n",
            "RangeIndex: 51033 entries, 0 to 51032\n",
            "Data columns (total 22 columns):\n",
            "code_s3ic     51033 non-null object\n",
            "x             51033 non-null int64\n",
            "y             51033 non-null int64\n",
            "epsg          51033 non-null int64\n",
            "nom_ets       51033 non-null object\n",
            "num_dep       51033 non-null object\n",
            "cd_insee      51033 non-null object\n",
            "cd_postal     51033 non-null int64\n",
            "nomcommune    51033 non-null object\n",
            "code_naf      20809 non-null object\n",
            "lib_naf       20809 non-null object\n",
            "num_siret     40883 non-null object\n",
            "regime        44400 non-null object\n",
            "lib_regime    44400 non-null object\n",
            "ippc          51033 non-null int64\n",
            "seveso        51032 non-null object\n",
            "lib_seveso    51032 non-null object\n",
            "famille_ic    51033 non-null object\n",
            "url_fiche     51033 non-null object\n",
            "rayon         23930 non-null float64\n",
            "precis_loc    51031 non-null float64\n",
            "lib_precis    51033 non-null object\n",
            "dtypes: float64(2), int64(5), object(15)\n",
            "memory usage: 8.6+ MB\n"
          ],
          "name": "stdout"
        }
      ]
    },
    {
      "metadata": {
        "id": "Qtj42EwCvQRl",
        "colab_type": "text"
      },
      "cell_type": "markdown",
      "source": [
        "Trop cool, on a le code S3IC (Gerep ?) et le code SIRET pour 40883 installations classés !!  Il reste donc environ 10 000 SIRET à trouver.\n"
      ]
    },
    {
      "metadata": {
        "id": "KLxKtw5ZXYY9",
        "colab_type": "text"
      },
      "cell_type": "markdown",
      "source": [
        "Bon, il y a un problème, le shapefile a bouffé les caractères UTF ...\n"
      ]
    },
    {
      "metadata": {
        "id": "-0duqRQgXgJ2",
        "colab_type": "code",
        "outputId": "c73bb563-27bd-46f2-91e5-6a2507b4fc43",
        "colab": {
          "base_uri": "https://localhost:8080/",
          "height": 357
        }
      },
      "cell_type": "code",
      "source": [
        "icpe_clean_df = pd.merge(icpe_df, icpe_shp_df, left_on='Identifiant', right_on='code_s3ic',how='left')\n",
        "\n",
        "cols = [10,11,12,13,14,15,16,17,18,22,23,24,25,26,27,28,29,30,31]\n",
        "icpe_clean_df.drop(icpe_clean_df.columns[cols],axis=1,inplace=True)\n",
        "\n",
        "icpe_clean_df.info()\n"
      ],
      "execution_count": 99,
      "outputs": [
        {
          "output_type": "stream",
          "text": [
            "<class 'pandas.core.frame.DataFrame'>\n",
            "Int64Index: 52012 entries, 0 to 52011\n",
            "Data columns (total 13 columns):\n",
            "Identifiant           52012 non-null object\n",
            "Nom_etablissement     52012 non-null object\n",
            "Code postal           52012 non-null int64\n",
            "Commune               52012 non-null object\n",
            "Département           52012 non-null object\n",
            "Régime                52012 non-null object\n",
            "Statut Seveso         52012 non-null object\n",
            "Etat d'activité       52012 non-null object\n",
            "Priorité nationale    52012 non-null object\n",
            "IED-MTD               52012 non-null object\n",
            "code_naf              20774 non-null object\n",
            "lib_naf               20774 non-null object\n",
            "num_siret             40821 non-null object\n",
            "dtypes: int64(1), object(12)\n",
            "memory usage: 5.6+ MB\n"
          ],
          "name": "stdout"
        }
      ]
    },
    {
      "metadata": {
        "id": "FSbX4pNNvqCM",
        "colab_type": "text"
      },
      "cell_type": "markdown",
      "source": [
        "## 1er essai, croisons IREP et ICPE"
      ]
    },
    {
      "metadata": {
        "id": "q0kbpwdjf1s6",
        "colab_type": "text"
      },
      "cell_type": "markdown",
      "source": [
        "Un peu de regex pour normalier les identifiant S3IC dans IREP : 070.00579 ==>  0070.00579\n"
      ]
    },
    {
      "metadata": {
        "id": "pPnuyDkxcdUC",
        "colab_type": "code",
        "colab": {}
      },
      "cell_type": "code",
      "source": [
        "etablissement_irep_df[\"Identifiant\"] =  etablissement_irep_df[\"Identifiant\"].replace(regex=['^'], value='0')\n",
        "#etablissement_irep_df"
      ],
      "execution_count": 0,
      "outputs": []
    },
    {
      "metadata": {
        "id": "W56xneUcv4uE",
        "colab_type": "code",
        "outputId": "2016d115-f988-4ed0-9a7a-a0c1a97a1277",
        "colab": {
          "base_uri": "https://localhost:8080/",
          "height": 602
        }
      },
      "cell_type": "code",
      "source": [
        "\n",
        "result = pd.merge(icpe_clean_df, etablissement_irep_df, left_on='Identifiant', right_on='Identifiant',how='inner')\n",
        "result.info()"
      ],
      "execution_count": 101,
      "outputs": [
        {
          "output_type": "stream",
          "text": [
            "<class 'pandas.core.frame.DataFrame'>\n",
            "Int64Index: 9371 entries, 0 to 9370\n",
            "Data columns (total 26 columns):\n",
            "Identifiant           9371 non-null object\n",
            "Nom_etablissement     9371 non-null object\n",
            "Code postal           9371 non-null int64\n",
            "Commune_x             9371 non-null object\n",
            "Département           9371 non-null object\n",
            "Régime                9371 non-null object\n",
            "Statut Seveso         9371 non-null object\n",
            "Etat d'activité       9371 non-null object\n",
            "Priorité nationale    9371 non-null object\n",
            "IED-MTD               9371 non-null object\n",
            "code_naf              6056 non-null object\n",
            "lib_naf               6056 non-null object\n",
            "num_siret             8297 non-null object\n",
            "Nom_Etablissement     9371 non-null object\n",
            "Numero_SIRET          9371 non-null object\n",
            "Adresse               6842 non-null object\n",
            "Code_Postal           9371 non-null int64\n",
            "Commune_y             9370 non-null object\n",
            "Departement           9371 non-null object\n",
            "Region                9371 non-null object\n",
            "Coordonnees_X         9371 non-null float64\n",
            "Coordonnees_Y         9371 non-null float64\n",
            "Code_APE              9371 non-null object\n",
            "Libelle_APE           9371 non-null object\n",
            "code_eprtr            2842 non-null object\n",
            "libelle_eprtr         2842 non-null object\n",
            "dtypes: float64(2), int64(2), object(22)\n",
            "memory usage: 1.9+ MB\n"
          ],
          "name": "stdout"
        }
      ]
    },
    {
      "metadata": {
        "id": "WjoF8V-xxFPH",
        "colab_type": "text"
      },
      "cell_type": "markdown",
      "source": [
        "Sur les 10000 IREP, 9371 sont dans la base ICPE. Parmi ces 9371 entrées communes, la base ICPE n'apporte que 8300 numéro SIRET alors que le fichier IREP en donne 9371. On gagne donc environ 1000 SIRET en croisant les bases. Plus que 9000 à trouver.  Sans parler des IREP qui ne sont pas ICPE ...\n",
        "\n",
        "---\n",
        "\n"
      ]
    },
    {
      "metadata": {
        "id": "_ARx5or8yVML",
        "colab_type": "text"
      },
      "cell_type": "markdown",
      "source": [
        "### Mettons la base au propre"
      ]
    },
    {
      "metadata": {
        "id": "eqZRZJNJyay2",
        "colab_type": "code",
        "outputId": "a2478576-914a-4e8f-e56d-b1102ed23dbb",
        "colab": {
          "base_uri": "https://localhost:8080/",
          "height": 602
        }
      },
      "cell_type": "code",
      "source": [
        "icpe_x_irep = pd.merge(icpe_clean_df, etablissement_irep_df, left_on='Identifiant', right_on='Identifiant',how='outer')\n",
        "\n",
        "icpe_x_irep.columns = ['icpe_code_s3ic', 'icpe_nom_ets','icpe_cd_postal','icpe_nomcommune',\n",
        "                       'icpe_dep','icpe_regime','icpe_statut_seveso', 'icpe_etat_activite',\n",
        "                       'icpe_priorite_nationale','icpe_IED-MTD',\n",
        "                       'icpe_code_naf','icpe_lib_naf','icpe_num_siret',\n",
        "                       'irep_Nom_Etablissement','irep_Numero_SIRET','irep_Adresse','irep_Code_Postal',\n",
        "                       'irep_Commune','irep_Departement','irep_Region','irep_Coordonnees_X','irep_Coordonnees_Y',\n",
        "                       'irep_Code_APE','irep_Libelle_APE','irep_code_eprtr','irep_libelle_eprtr']\n",
        "icpe_x_irep.info()"
      ],
      "execution_count": 102,
      "outputs": [
        {
          "output_type": "stream",
          "text": [
            "<class 'pandas.core.frame.DataFrame'>\n",
            "Int64Index: 52688 entries, 0 to 52687\n",
            "Data columns (total 26 columns):\n",
            "icpe_code_s3ic             52688 non-null object\n",
            "icpe_nom_ets               52012 non-null object\n",
            "icpe_cd_postal             52012 non-null float64\n",
            "icpe_nomcommune            52012 non-null object\n",
            "icpe_dep                   52012 non-null object\n",
            "icpe_regime                52012 non-null object\n",
            "icpe_statut_seveso         52012 non-null object\n",
            "icpe_etat_activite         52012 non-null object\n",
            "icpe_priorite_nationale    52012 non-null object\n",
            "icpe_IED-MTD               52012 non-null object\n",
            "icpe_code_naf              20774 non-null object\n",
            "icpe_lib_naf               20774 non-null object\n",
            "icpe_num_siret             40821 non-null object\n",
            "irep_Nom_Etablissement     10047 non-null object\n",
            "irep_Numero_SIRET          10047 non-null object\n",
            "irep_Adresse               7367 non-null object\n",
            "irep_Code_Postal           10047 non-null float64\n",
            "irep_Commune               10046 non-null object\n",
            "irep_Departement           10047 non-null object\n",
            "irep_Region                10047 non-null object\n",
            "irep_Coordonnees_X         10047 non-null float64\n",
            "irep_Coordonnees_Y         10047 non-null float64\n",
            "irep_Code_APE              10047 non-null object\n",
            "irep_Libelle_APE           10047 non-null object\n",
            "irep_code_eprtr            2955 non-null object\n",
            "irep_libelle_eprtr         2955 non-null object\n",
            "dtypes: float64(4), object(22)\n",
            "memory usage: 10.9+ MB\n"
          ],
          "name": "stdout"
        }
      ]
    },
    {
      "metadata": {
        "id": "uS2HrkXTAmKy",
        "colab_type": "code",
        "outputId": "4add74dc-5cbe-40e1-819c-db47dd5571ac",
        "colab": {
          "base_uri": "https://localhost:8080/",
          "height": 36
        }
      },
      "cell_type": "code",
      "source": [
        "filter =  (icpe_x_irep['icpe_num_siret'].isna() & icpe_x_irep['irep_Numero_SIRET'].isna())\n",
        "icpe_w = icpe_x_irep[filter]\n",
        "len(icpe_w)"
      ],
      "execution_count": 103,
      "outputs": [
        {
          "output_type": "execute_result",
          "data": {
            "text/plain": [
              "10117"
            ]
          },
          "metadata": {
            "tags": []
          },
          "execution_count": 103
        }
      ]
    },
    {
      "metadata": {
        "id": "BAZou0pR2Ybu",
        "colab_type": "text"
      },
      "cell_type": "markdown",
      "source": [
        "## Sireine, nous voilà"
      ]
    },
    {
      "metadata": {
        "id": "eHi10ORR3sHr",
        "colab_type": "text"
      },
      "cell_type": "markdown",
      "source": [
        "Le fichier Sireine est trop gros : 8Go, \n",
        "\n",
        "On préfiltre sous bash en éliminant : \n",
        "* Les professions libérales (NATETAB =  5)\n",
        "* Les entrepreneurs individuels (NATETAB =  9)\n",
        "* Les copro (NJ = 9110), les associations (NJ = 9220), les communes (7210), les SCI  (6540), les CE (8311), les services déconcentrés (7172), les services départementaux (7220), les services sociaux communaux (7361), les associations foncières (7323), les EPA (7389)\n",
        "* Les APE Justice (8423Z), Enseignement secondaire général (8531Z), Administration publique générale (8411Z) ,Enseignement primaire ( 8520Z)\n",
        "\n",
        "Puis on ne garde que quelques colonnes !\n",
        "\n",
        "```\n",
        "\n",
        "csvgrep -i -c 41 -r \"5|9\" geo_sirene.csv > temp.csv\n",
        "\n",
        "csvgrep -i -c 71 -r \"(9110)|(9220)|(7210)|(6540)|(8311)|(7172)|(7220)|(7361)|(7323)|(7389)\" temp.csv > temp2.csv\n",
        "\n",
        "csvgrep -i -c 43 -r \"(8423Z)|(8531Z)|(8411Z)|(8520Z)\" temp2.csv > temp3.csv\n",
        "\n",
        "csvcut -c 1,2,3,4,10,11,21,23,29,37,43,44,47,61,63,64,65,70,71,72,73,101,102,105 temp3.csv > sireine_light.csv\n",
        "\n",
        "```\n",
        "\n",
        "Préparation des données ICPE : tout mettre en minuscule + supprimer les parenthèses\n",
        "Apparier sur le CP + le nom par rapport à Sireine ...\n",
        "\n",
        "\n",
        "\n",
        "\n",
        "\n",
        "\n"
      ]
    },
    {
      "metadata": {
        "id": "jeOkygsVPlij",
        "colab_type": "code",
        "outputId": "c1eefa69-ce6d-4f96-8cc3-4d935800cb90",
        "colab": {
          "base_uri": "https://localhost:8080/",
          "height": 36
        }
      },
      "cell_type": "code",
      "source": [
        "import sys\n",
        "sys.getdefaultencoding()"
      ],
      "execution_count": 13,
      "outputs": [
        {
          "output_type": "execute_result",
          "data": {
            "text/plain": [
              "'utf-8'"
            ]
          },
          "metadata": {
            "tags": []
          },
          "execution_count": 13
        }
      ]
    },
    {
      "metadata": {
        "id": "ngS5cPzQRmdg",
        "colab_type": "code",
        "colab": {}
      },
      "cell_type": "code",
      "source": [
        "icpe_x_irep[\"icpe_nom_ets\"] =  icpe_x_irep[\"icpe_nom_ets\"].str.replace(u\"é\", \"e\")\n",
        "icpe_x_irep[\"icpe_nom_ets\"] =  icpe_x_irep[\"icpe_nom_ets\"].str.replace(u\"è\", \"e\")\n",
        "\n",
        "icpe_x_irep[\"icpe_nom_ets\"] =  icpe_x_irep[\"icpe_nom_ets\"].str.lower()\n",
        "icpe_x_irep[\"icpe_nomcommune\"] =  icpe_x_irep[\"icpe_nomcommune\"].str.lower()\n",
        "\n",
        "#On supprime les (....) ; exemple MON_ENTREPRISE (ex TOn_ENTREPRISE)\n",
        "icpe_x_irep[\"icpe_nom_ets\"] =  icpe_x_irep[\"icpe_nom_ets\"].replace(regex=['\\(.*\\)'], value='')\n",
        "icpe_x_irep[\"icpe_nom_ets\"] =  icpe_x_irep[\"icpe_nom_ets\"].replace(regex=['sas'], value='')\n",
        "icpe_x_irep[\"icpe_nom_ets\"] =  icpe_x_irep[\"icpe_nom_ets\"].replace(regex=['sarl'], value='')\n",
        "icpe_x_irep[\"icpe_nom_ets\"] =  icpe_x_irep[\"icpe_nom_ets\"].replace(regex=['sa'], value='')\n",
        "icpe_x_irep[\"icpe_nom_ets\"] =  icpe_x_irep[\"icpe_nom_ets\"].replace(regex=['gaec'], value='')\n",
        "icpe_x_irep[\"icpe_nom_ets\"] =  icpe_x_irep[\"icpe_nom_ets\"].replace(regex=['earl'], value='')\n",
        "#icpe_x_irep[\"icpe_nom_ets\"] =  icpe_x_irep[\"icpe_nom_ets\"].replace(regex=['ex .*'], value='')"
      ],
      "execution_count": 0,
      "outputs": []
    },
    {
      "metadata": {
        "id": "wvSwhWPBXU08",
        "colab_type": "text"
      },
      "cell_type": "markdown",
      "source": [
        "## L'import de la base Sireine préparée (enfin)"
      ]
    },
    {
      "metadata": {
        "id": "sQpdd4qzXpav",
        "colab_type": "code",
        "outputId": "4ea739ed-33e1-4b6f-a175-dc9f1730e60d",
        "colab": {
          "base_uri": "https://localhost:8080/",
          "height": 75
        }
      },
      "cell_type": "code",
      "source": [
        "sireine_ini = pd.read_csv(\"/content/gdrive/My Drive/RST-Analytics/TrackDechets/sireine_light-2.csv\",sep=',',\n",
        "                         dtype={'SIREN':str, 'NIC':str})"
      ],
      "execution_count": 105,
      "outputs": [
        {
          "output_type": "stream",
          "text": [
            "/usr/local/lib/python3.6/dist-packages/IPython/core/interactiveshell.py:2718: DtypeWarning: Columns (21) have mixed types. Specify dtype option on import or set low_memory=False.\n",
            "  interactivity=interactivity, compiler=compiler, result=result)\n"
          ],
          "name": "stderr"
        }
      ]
    },
    {
      "metadata": {
        "id": "FM4M5NP9X4D4",
        "colab_type": "code",
        "outputId": "b257370a-a9ba-4bcc-b9a1-b73ac5725e02",
        "colab": {
          "base_uri": "https://localhost:8080/",
          "height": 526
        }
      },
      "cell_type": "code",
      "source": [
        "sireine_df = sireine_ini.copy()\n",
        "sireine_df.info()"
      ],
      "execution_count": 106,
      "outputs": [
        {
          "output_type": "stream",
          "text": [
            "<class 'pandas.core.frame.DataFrame'>\n",
            "RangeIndex: 6469981 entries, 0 to 6469980\n",
            "Data columns (total 22 columns):\n",
            "SIREN            object\n",
            "NIC              object\n",
            "L1_NORMALISEE    object\n",
            "L2_NORMALISEE    object\n",
            "L1_DECLAREE      object\n",
            "L2_DECLAREE      object\n",
            "CODPOS           float64\n",
            "RPET             int64\n",
            "LIBCOM           object\n",
            "ENSEIGNE         object\n",
            "APET700          object\n",
            "LIBAPET          object\n",
            "LIBTEFET         object\n",
            "NOMEN_LONG       object\n",
            "NOM              object\n",
            "PRENOM           object\n",
            "CIVILITE         float64\n",
            "ADR_MAIL         float64\n",
            "NJ               float64\n",
            "LIBNJ            object\n",
            "APEN700          object\n",
            "geo_adresse      object\n",
            "dtypes: float64(4), int64(1), object(17)\n",
            "memory usage: 1.1+ GB\n"
          ],
          "name": "stdout"
        }
      ]
    },
    {
      "metadata": {
        "id": "1Q7EZpVp3rSI",
        "colab_type": "text"
      },
      "cell_type": "markdown",
      "source": [
        "On met les noms en minuscules !"
      ]
    },
    {
      "metadata": {
        "id": "UNl9uCSgso7T",
        "colab_type": "code",
        "colab": {}
      },
      "cell_type": "code",
      "source": [
        "sireine_df[\"NOMEN_LONG\"] =  sireine_df[\"NOMEN_LONG\"].str.lower()\n",
        "sireine_df[\"L1_NORMALISEE\"] =  sireine_df[\"L1_NORMALISEE\"].str.lower()\n",
        "sireine_df[\"L1_DECLAREE\"] =  sireine_df[\"L1_DECLAREE\"].str.lower()\n",
        "sireine_df[\"LIBCOM\"] =  sireine_df[\"LIBCOM\"].str.lower()\n",
        "\n",
        "\n",
        "sireine_df[\"L1_NORMALISEE\"] =  sireine_df[\"L1_NORMALISEE\"].str.replace(u\"é\", \"e\")\n",
        "sireine_df[\"L1_NORMALISEE\"] =  sireine_df[\"L1_NORMALISEE\"].str.replace(u\"è\", \"e\")\n",
        "\n",
        "\n",
        "sireine_df[\"L1_NORMALISEE\"] =  sireine_df[\"L1_NORMALISEE\"].replace(regex=['sas'], value='')\n",
        "sireine_df[\"L1_NORMALISEE\"] =  sireine_df[\"L1_NORMALISEE\"].replace(regex=['sarl'], value='')\n",
        "sireine_df[\"L1_NORMALISEE\"] =  sireine_df[\"L1_NORMALISEE\"].replace(regex=['sa'], value='')\n",
        "sireine_df[\"L1_NORMALISEE\"] =  sireine_df[\"L1_NORMALISEE\"].replace(regex=['gaec'], value='')\n",
        "sireine_df[\"L1_NORMALISEE\"] =  sireine_df[\"L1_NORMALISEE\"].replace(regex=['earl'], value='')\n"
      ],
      "execution_count": 0,
      "outputs": []
    },
    {
      "metadata": {
        "id": "zaOurN3uYRu2",
        "colab_type": "text"
      },
      "cell_type": "markdown",
      "source": [
        "On tente un appariement CP + Nom"
      ]
    },
    {
      "metadata": {
        "id": "jj7VaghRYi6d",
        "colab_type": "code",
        "colab": {}
      },
      "cell_type": "code",
      "source": [
        "icpe_x_sireine = pd.merge(icpe_x_irep, sireine_df, \n",
        "                          left_on=['icpe_cd_postal', 'icpe_nom_ets'],\n",
        "                          right_on=['CODPOS', 'L1_NORMALISEE'],\n",
        "                          how='left')"
      ],
      "execution_count": 0,
      "outputs": []
    },
    {
      "metadata": {
        "id": "-IMHn9aUZSIj",
        "colab_type": "code",
        "outputId": "2a0b7246-acf3-40f0-a845-4b6923429ca7",
        "colab": {
          "base_uri": "https://localhost:8080/",
          "height": 1017
        }
      },
      "cell_type": "code",
      "source": [
        "icpe_x_sireine.info()"
      ],
      "execution_count": 114,
      "outputs": [
        {
          "output_type": "stream",
          "text": [
            "<class 'pandas.core.frame.DataFrame'>\n",
            "Int64Index: 55478 entries, 0 to 55477\n",
            "Data columns (total 48 columns):\n",
            "icpe_code_s3ic             55478 non-null object\n",
            "icpe_nom_ets               54802 non-null object\n",
            "icpe_cd_postal             54802 non-null float64\n",
            "icpe_nomcommune            54802 non-null object\n",
            "icpe_dep                   54802 non-null object\n",
            "icpe_regime                54802 non-null object\n",
            "icpe_statut_seveso         54802 non-null object\n",
            "icpe_etat_activite         54802 non-null object\n",
            "icpe_priorite_nationale    54802 non-null object\n",
            "icpe_IED-MTD               54802 non-null object\n",
            "icpe_code_naf              22099 non-null object\n",
            "icpe_lib_naf               22099 non-null object\n",
            "icpe_num_siret             42837 non-null object\n",
            "irep_Nom_Etablissement     10656 non-null object\n",
            "irep_Numero_SIRET          10656 non-null object\n",
            "irep_Adresse               7824 non-null object\n",
            "irep_Code_Postal           10656 non-null float64\n",
            "irep_Commune               10655 non-null object\n",
            "irep_Departement           10656 non-null object\n",
            "irep_Region                10656 non-null object\n",
            "irep_Coordonnees_X         10656 non-null float64\n",
            "irep_Coordonnees_Y         10656 non-null float64\n",
            "irep_Code_APE              10656 non-null object\n",
            "irep_Libelle_APE           10656 non-null object\n",
            "irep_code_eprtr            3174 non-null object\n",
            "irep_libelle_eprtr         3174 non-null object\n",
            "SIREN                      16265 non-null object\n",
            "NIC                        16265 non-null object\n",
            "L1_NORMALISEE              16265 non-null object\n",
            "L2_NORMALISEE              4306 non-null object\n",
            "L1_DECLAREE                16265 non-null object\n",
            "L2_DECLAREE                2792 non-null object\n",
            "CODPOS                     16265 non-null float64\n",
            "RPET                       16265 non-null float64\n",
            "LIBCOM                     16265 non-null object\n",
            "ENSEIGNE                   1616 non-null object\n",
            "APET700                    16265 non-null object\n",
            "LIBAPET                    16265 non-null object\n",
            "LIBTEFET                   16265 non-null object\n",
            "NOMEN_LONG                 16265 non-null object\n",
            "NOM                        145 non-null object\n",
            "PRENOM                     145 non-null object\n",
            "CIVILITE                   145 non-null float64\n",
            "ADR_MAIL                   0 non-null float64\n",
            "NJ                         16120 non-null float64\n",
            "LIBNJ                      16120 non-null object\n",
            "APEN700                    16265 non-null object\n",
            "geo_adresse                15070 non-null object\n",
            "dtypes: float64(9), object(39)\n",
            "memory usage: 20.7+ MB\n"
          ],
          "name": "stdout"
        }
      ]
    },
    {
      "metadata": {
        "id": "7Ym0QEwxNGpH",
        "colab_type": "text"
      },
      "cell_type": "markdown",
      "source": [
        "Une apparieent brut entre les bases (sur le nom et le CP), permet d'avoir un recouvrement d'à peine 11 000 entrées. Reste à savoir si cet appariement donne de l'information supplémentaire : les SIREN obtenus étaient-ils connus ?"
      ]
    },
    {
      "metadata": {
        "id": "b86hDXyvOBjF",
        "colab_type": "code",
        "outputId": "efdf922b-93a0-4da5-ed58-f47c8c80859d",
        "colab": {
          "base_uri": "https://localhost:8080/",
          "height": 36
        }
      },
      "cell_type": "code",
      "source": [
        "filter = (icpe_x_sireine['icpe_num_siret'].notna() | icpe_x_sireine['irep_Numero_SIRET'].notna() | icpe_x_sireine['SIREN'].notna())\n",
        "result = icpe_x_sireine[filter]\n",
        "len(result)"
      ],
      "execution_count": 115,
      "outputs": [
        {
          "output_type": "execute_result",
          "data": {
            "text/plain": [
              "46514"
            ]
          },
          "metadata": {
            "tags": []
          },
          "execution_count": 115
        }
      ]
    },
    {
      "metadata": {
        "id": "uoy-lF-1bH7P",
        "colab_type": "text"
      },
      "cell_type": "markdown",
      "source": [
        "Un peu mieux mais ce n'est pas génial, il va falloir faire mieux !!! On ne gagner \"que\" 3000 SIRET avec l'appariement bourin !\n",
        " \n",
        "\n"
      ]
    },
    {
      "metadata": {
        "id": "9G0_fcMiWZ__",
        "colab_type": "code",
        "colab": {
          "base_uri": "https://localhost:8080/",
          "height": 36
        },
        "outputId": "67044d7f-c2ee-41fd-99ea-bba8e194896c"
      },
      "cell_type": "code",
      "source": [
        "filter =  (icpe_x_sireine['icpe_num_siret'].isna() & icpe_x_sireine['irep_Numero_SIRET'].isna() & icpe_x_sireine['SIREN'].isna())\n",
        "icpe_w = icpe_x_sireine[filter]\n",
        "len(icpe_w)"
      ],
      "execution_count": 116,
      "outputs": [
        {
          "output_type": "execute_result",
          "data": {
            "text/plain": [
              "8964"
            ]
          },
          "metadata": {
            "tags": []
          },
          "execution_count": 116
        }
      ]
    },
    {
      "metadata": {
        "id": "u29m-ZskW__4",
        "colab_type": "code",
        "colab": {}
      },
      "cell_type": "code",
      "source": [
        "icpe_w"
      ],
      "execution_count": 0,
      "outputs": []
    },
    {
      "metadata": {
        "id": "zEpA57W3WjQ0",
        "colab_type": "text"
      },
      "cell_type": "markdown",
      "source": [
        "### Mise au propre du CSV + Export"
      ]
    },
    {
      "metadata": {
        "id": "2MvpH19XWo5P",
        "colab_type": "code",
        "colab": {
          "base_uri": "https://localhost:8080/",
          "height": 206
        },
        "outputId": "38793304-c484-487b-b6b7-f3f3b142aed9"
      },
      "cell_type": "code",
      "source": [
        "icpe_x_sireine_df = icpe_x_sireine.copy()\n",
        "\n",
        "icpe_siret_df = pd.concat([icpe_x_sireine_df[\"icpe_code_s3ic\"],icpe_x_sireine_df[\"icpe_num_siret\"],icpe_x_sireine_df[\"irep_Numero_SIRET\"],\n",
        "                           icpe_x_sireine[\"SIREN\"],icpe_x_sireine[\"NIC\"]],axis=1)\n",
        "\n",
        "icpe_siret_df.info()\n",
        "icpe_siret_df.to_csv(\"/content/gdrive/My Drive/RST-Analytics/TrackDechets/icpe_siret.csv\")\n",
        "\n"
      ],
      "execution_count": 117,
      "outputs": [
        {
          "output_type": "stream",
          "text": [
            "<class 'pandas.core.frame.DataFrame'>\n",
            "Int64Index: 55478 entries, 0 to 55477\n",
            "Data columns (total 5 columns):\n",
            "icpe_code_s3ic       55478 non-null object\n",
            "icpe_num_siret       42837 non-null object\n",
            "irep_Numero_SIRET    10656 non-null object\n",
            "SIREN                16265 non-null object\n",
            "NIC                  16265 non-null object\n",
            "dtypes: object(5)\n",
            "memory usage: 2.5+ MB\n"
          ],
          "name": "stdout"
        }
      ]
    },
    {
      "metadata": {
        "id": "Z6ReAkgmowXG",
        "colab_type": "code",
        "colab": {
          "base_uri": "https://localhost:8080/",
          "height": 1017
        },
        "outputId": "142deb9c-e512-47a0-93e9-a0a85e753c91"
      },
      "cell_type": "code",
      "source": [
        "\n",
        "icpe_x_sireine.info()\n",
        "icpe_x_sireine.to_csv(\"/content/gdrive/My Drive/RST-Analytics/TrackDechets/icpe_siret_full.csv\")\n"
      ],
      "execution_count": 121,
      "outputs": [
        {
          "output_type": "stream",
          "text": [
            "<class 'pandas.core.frame.DataFrame'>\n",
            "Int64Index: 55478 entries, 0 to 55477\n",
            "Data columns (total 48 columns):\n",
            "icpe_code_s3ic             55478 non-null object\n",
            "icpe_nom_ets               54802 non-null object\n",
            "icpe_cd_postal             54802 non-null float64\n",
            "icpe_nomcommune            54802 non-null object\n",
            "icpe_dep                   54802 non-null object\n",
            "icpe_regime                54802 non-null object\n",
            "icpe_statut_seveso         54802 non-null object\n",
            "icpe_etat_activite         54802 non-null object\n",
            "icpe_priorite_nationale    54802 non-null object\n",
            "icpe_IED-MTD               54802 non-null object\n",
            "icpe_code_naf              22099 non-null object\n",
            "icpe_lib_naf               22099 non-null object\n",
            "icpe_num_siret             42837 non-null object\n",
            "irep_Nom_Etablissement     10656 non-null object\n",
            "irep_Numero_SIRET          10656 non-null object\n",
            "irep_Adresse               7824 non-null object\n",
            "irep_Code_Postal           10656 non-null float64\n",
            "irep_Commune               10655 non-null object\n",
            "irep_Departement           10656 non-null object\n",
            "irep_Region                10656 non-null object\n",
            "irep_Coordonnees_X         10656 non-null float64\n",
            "irep_Coordonnees_Y         10656 non-null float64\n",
            "irep_Code_APE              10656 non-null object\n",
            "irep_Libelle_APE           10656 non-null object\n",
            "irep_code_eprtr            3174 non-null object\n",
            "irep_libelle_eprtr         3174 non-null object\n",
            "SIREN                      16265 non-null object\n",
            "NIC                        16265 non-null object\n",
            "L1_NORMALISEE              16265 non-null object\n",
            "L2_NORMALISEE              4306 non-null object\n",
            "L1_DECLAREE                16265 non-null object\n",
            "L2_DECLAREE                2792 non-null object\n",
            "CODPOS                     16265 non-null float64\n",
            "RPET                       16265 non-null float64\n",
            "LIBCOM                     16265 non-null object\n",
            "ENSEIGNE                   1616 non-null object\n",
            "APET700                    16265 non-null object\n",
            "LIBAPET                    16265 non-null object\n",
            "LIBTEFET                   16265 non-null object\n",
            "NOMEN_LONG                 16265 non-null object\n",
            "NOM                        145 non-null object\n",
            "PRENOM                     145 non-null object\n",
            "CIVILITE                   145 non-null float64\n",
            "ADR_MAIL                   0 non-null float64\n",
            "NJ                         16120 non-null float64\n",
            "LIBNJ                      16120 non-null object\n",
            "APEN700                    16265 non-null object\n",
            "geo_adresse                15070 non-null object\n",
            "dtypes: float64(9), object(39)\n",
            "memory usage: 20.7+ MB\n"
          ],
          "name": "stdout"
        }
      ]
    },
    {
      "metadata": {
        "id": "cnNVlqE_bNRf",
        "colab_type": "text"
      },
      "cell_type": "markdown",
      "source": [
        "## Appariement plus \"malin\"\n",
        "\n",
        "- On isole les ICPE sans SIRET à ce stade\n",
        "- Pour chaque ICPE, on cherche les entreprises dans SIREN avec le même code postal\n",
        "- On calcule la distance de levenstein entre le nom de l'ICPE et chaque entreprise. S'il y en a une dont la distance est faible, on le retient en lui affectant un score de confiance"
      ]
    },
    {
      "metadata": {
        "id": "hi5p6D1SR1cf",
        "colab_type": "code",
        "colab": {}
      },
      "cell_type": "code",
      "source": [
        "#TODO\n"
      ],
      "execution_count": 0,
      "outputs": []
    },
    {
      "metadata": {
        "id": "FIFTt3NCa7_w",
        "colab_type": "code",
        "colab": {}
      },
      "cell_type": "code",
      "source": [
        "#for row in icpe_w.iterrows():\n",
        "#    print icpe_w[\"icpe_code_s3ic\"]\n",
        "\n",
        "for i in range(2,3):\n",
        "  row = icpe_w.iloc[i]\n",
        "  filter = (sireine_df[\"CODPOS\"]==row[\"icpe_cd_postal\"])\n",
        "  result = sireine_df[filter]\n",
        "  print(row[\"icpe_nom_ets\"])\n",
        "  print(row[\"icpe_cd_postal\"])\n",
        "  print(result['CODPOS'])\n",
        "  \n",
        "            \n",
        "                     \n",
        "  \n",
        "  \n",
        "\n",
        "\n",
        "\n"
      ],
      "execution_count": 0,
      "outputs": []
    },
    {
      "metadata": {
        "id": "W8ScYZCtSViA",
        "colab_type": "code",
        "colab": {}
      },
      "cell_type": "code",
      "source": [
        "result.head(5000)"
      ],
      "execution_count": 0,
      "outputs": []
    }
  ]
}